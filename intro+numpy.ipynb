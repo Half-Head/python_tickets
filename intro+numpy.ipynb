{
 "cells": [
  {
   "cell_type": "markdown",
   "id": "64e86863",
   "metadata": {},
   "source": [
    "# 1. Менеджер пакетов pip. Мотивация использования. Основные команды: install, list, show, freeze, uninstall. Работа с зависимостями Python-проекта."
   ]
  },
  {
   "cell_type": "markdown",
   "id": "6b1bec35",
   "metadata": {},
   "source": [
    "##### Менеджер пакетов pip. Мотивация использования: \n",
    "pip — стандартный менеджер пакетов Python, позволяющий устанавливать, обновлять и удалять библиотеки, а также управлять зависимостями проекта. Он упрощает работу с внешними модулями, обеспечивает контроль версий и автоматически разрешает зависимости.\n",
    "##### Основные команды:\n",
    "- 1. ```pip install numpy``` - установка пакета. \n",
    "    2. ``` pip install -r requirements.txt ``` - Установка из requirements.txt \n",
    "    3. ``` pip install git+https://github.com/username/repository.git ``` - Установка из Git-репозитория \n",
    "    4. ``` pip install https://example.com/path/to/archive.zip ``` - Установка из архива по URL, если пакет доступен в виде .zip или .tar.gz \n",
    "    5. ``` pip install ./local_package_folder # путь к папке с setup.py```- Установка локального пакета\n",
    "    6. ``` pip install -e git+https://github.com/user/repo.git#egg=package_name ``` - Режим разработки (-e / --editable), полезно, если нужно изменять код пакета \"на лету\"\n",
    "- 1. ```pip list # Все пакеты```  - вывод списка установленных пакетов.\n",
    "    2. ```pip list --outdated # Только устаревшие```\n",
    "- ```pip show numpy``` - информация о конкретном пакете (версия, зависимости, расположение).\n",
    "- ``` pip freeze > requirements.txt ``` - фиксация зависимостей в формате для requirements.txt\n",
    "- ``` pip uninstall numpy``` - Удаление пакета\n",
    "##### Работа с зависимостями Python-проекта:\n",
    "- Создание виртуального окружения: \\\n",
    "\\\n",
    "``` python -m venv venv          # Создание ``` \\\n",
    "```source venv/bin/activate     # Активация (Linux/macOS)``` \\\n",
    "```venv\\Scripts\\activate        # Активация (Windows) ```\n",
    "\n",
    "- Файл requirements.txt \\\n",
    "\\\n",
    "Формат файла: \\\n",
    "``` пакет==версия``` \\\n",
    "```другой_пакет>=минимальная_версия``` \\\n",
    "Пример: \\\n",
    "``` Flask==2.3.2``` \\\n",
    "```pandas>=1.5.0 ``` \\\n",
    "Установка: \\\n",
    "``` pip install -r requirements.txt ``` \n",
    "- Разрешение конфликтов \\\n",
    "\\\n",
    "Если пакеты требуют разные версии зависимостей, pip пытается найти совместимую комбинацию. \\\n",
    "В сложных случаях помогает ```pip check```\n"
   ]
  },
  {
   "cell_type": "markdown",
   "id": "271dadd6",
   "metadata": {},
   "source": [
    "# 2. Виртуальное окружение. Мотивация использования. Основы работы с виртуальным окружением с помощью venv."
   ]
  },
  {
   "cell_type": "markdown",
   "id": "ef4e7803",
   "metadata": {},
   "source": [
    "##### Виртуальное окружение. Мотивация использования:\n",
    "- Изоляция зависимостей \\\n",
    "\\\n",
    "Разные проекты могут требовать разные версии одних и тех же пакетов. Виртуальное окружение позволяет избежать конфликтов.\n",
    "\n",
    "- Воспроизводимость \\\n",
    "\\\n",
    "Фиксирует версии пакетов, чтобы проект работал одинаково на разных машинах.\n",
    "\n",
    "- Чистота системы \\\n",
    "\\\n",
    "Пакеты устанавливаются только в окружение проекта, а не глобально в систему.\n",
    "\n",
    "##### Основы работы с виртуальным окружением с помощью venv:\n",
    "```python -m venv venv_name  # Создаёт папку с окружением``` \\\n",
    "\\\n",
    "Активация: \\\n",
    "\\\n",
    "```venv_name\\Scripts\\activate``` - __Windows__ \\\n",
    "```source venv_name/bin/activate``` - __Linux/macOS__ \\\n",
    "\\\n",
    "Деактивация: \\\n",
    "\\\n",
    "``` deactivate ``` \\\n",
    "\\\n",
    "Управление зависимостями:\n",
    "\n",
    "- Установка пакетов (только в текущее окружение): \\\n",
    "``` pip install requests ```\n",
    "- Фиксация версий: \\\n",
    "```pip freeze > requirements.txt```  \n",
    "- Восстановление окружения на другой машине: \\\n",
    "```pip install -r requirements.txt ``` \n",
    "\n",
    "Пример: \\\n",
    "\\\n",
    "``` python -m venv venv  # Создание окружения ``` \\\n",
    "```source venv/bin/activate  # Активация (для Linux/macOS)``` \\\n",
    "```pip install -r requirements.txt  # Установка зависимостей ``` \n",
    "\n",
    "Важные нюансы:\n",
    "- Не добавляйте ```venv``` в Git (добавьте в ```.gitignore```). \n",
    "- Всегда активируйте окружение перед работой с проектом.\n",
    "- Используйте ```requirements.txt``` для переноса проекта. \\\n",
    "Команда для проверки активации: \\\n",
    "``` which python  # Должен показывать путь внутри venv ```\n"
   ]
  },
  {
   "cell_type": "markdown",
   "id": "1a81e01f",
   "metadata": {},
   "source": [
    "# 3. NumPy. Мотивация использования. Пример задачи, для решения которой целесообразно использовать NumPy."
   ]
  },
  {
   "cell_type": "markdown",
   "id": "90a256d0",
   "metadata": {},
   "source": [
    "##### NumPy. Мотивация использования:\n",
    "NumPy — фундаментальная библиотека для научных вычислений в Python. \\\n",
    "\\\n",
    "__Ключевые преимущества:__ \n",
    "- _Эффективность_: Оптимизированные массивы (ndarray) работают быстрее обычных списков Python. Высокая скорость за счет низкоуровневых оптимизаций. (Интеграция с C и Fortran)\n",
    "- _Удобство_: Богатый набор функций для операций с матрицами, линейной алгебры, статистики и др.\n",
    "- _Интеграция_: Совместимость с другими научными библиотеками (SciPy, Pandas, Matplotlib).\n",
    "##### Пример задачи, для решения которой целесообразно использовать NumPy:\n",
    "__Задача__: Вычисление скалярного произведения векторов."
   ]
  },
  {
   "cell_type": "markdown",
   "id": "af2574a1",
   "metadata": {},
   "source": [
    "Решение без NumPy:"
   ]
  },
  {
   "cell_type": "code",
   "execution_count": 1,
   "id": "74ef7c63",
   "metadata": {},
   "outputs": [
    {
     "name": "stdout",
     "output_type": "stream",
     "text": [
      "32\n"
     ]
    }
   ],
   "source": [
    "def dot_product(a, b):\n",
    "    return sum(x * y for x, y in zip(a, b))\n",
    "\n",
    "a = [1, 2, 3]\n",
    "b = [4, 5, 6]\n",
    "print(dot_product(a, b))  # 1*4 + 2*5 + 3*6 = 32"
   ]
  },
  {
   "cell_type": "markdown",
   "id": "42df66ce",
   "metadata": {},
   "source": [
    "Решение с NumPy:"
   ]
  },
  {
   "cell_type": "code",
   "execution_count": 2,
   "id": "f6358d09",
   "metadata": {},
   "outputs": [],
   "source": [
    "import numpy as np"
   ]
  },
  {
   "cell_type": "code",
   "execution_count": 4,
   "id": "a27376f1",
   "metadata": {},
   "outputs": [
    {
     "name": "stdout",
     "output_type": "stream",
     "text": [
      "32\n"
     ]
    }
   ],
   "source": [
    "a = np.array([1, 2, 3])\n",
    "b = np.array([4, 5, 6])\n",
    "print(np.dot(a, b))  # 32"
   ]
  },
  {
   "cell_type": "markdown",
   "id": "849c6164",
   "metadata": {},
   "source": [
    "__Почему NumPy лучше?__\n",
    "- Код короче и читаемее.\n",
    "- Операция выполняется в 10–100 раз быстрее для больших массивов.\n",
    "- Поддержка многомерных массивов и сложных операций (например, умножение матриц).\n",
    "\n",
    "__Когда использовать NumPy?__\n",
    "- Работа с большими массивами данных.\n",
    "- Математические операции (линейная алгебра, статистика).\n",
    "- Машинное обучение"
   ]
  },
  {
   "cell_type": "markdown",
   "id": "7d825d34",
   "metadata": {},
   "source": [
    "# 4. Массивы NumPy. Отличие массивов NumPy от списков Python: строгая типизация элементов, хранение элементов в памяти."
   ]
  },
  {
   "cell_type": "markdown",
   "id": "4b6aa052",
   "metadata": {},
   "source": [
    "1. __Типизация элементов__\n",
    "\n",
    "- Списки Python: \\\n",
    "\\\n",
    "Могут содержать элементы разных типов (гетерогенные). Например, в одном списке можно хранить целые числа, строки и объекты одновременно:"
   ]
  },
  {
   "cell_type": "code",
   "execution_count": 5,
   "id": "fa82b77d",
   "metadata": {},
   "outputs": [],
   "source": [
    "py_list = [1, \"текст\", 3.14, True]  # Корректно"
   ]
  },
  {
   "cell_type": "markdown",
   "id": "6802d246",
   "metadata": {},
   "source": [
    "- Массивы NumPy: \\\n",
    "\\\n",
    "Все элементы массива должны быть одного типа (гомогенные). При создании массива разные типы приводятся к общему:"
   ]
  },
  {
   "cell_type": "code",
   "execution_count": 8,
   "id": "3ebaeb14",
   "metadata": {},
   "outputs": [
    {
     "name": "stdout",
     "output_type": "stream",
     "text": [
      "float64\n"
     ]
    }
   ],
   "source": [
    "np_array = np.array([1, 2.5, 3])  # Все элементы станут float64\n",
    "print(np_array.dtype)  # → float64"
   ]
  },
  {
   "cell_type": "markdown",
   "id": "e159c284",
   "metadata": {},
   "source": [
    "Преобразование в случае смешении типов происходит по следующим правилам: \\\n",
    "\\\n",
    "Если ```str + любой другой тип```, то все элементы сводятся к ```str``` \\\n",
    "Если ```float + int/bool -> float``` \\\n",
    "Если ```int + bool -> int``` \\\n",
    "\\\n",
    "В случае явного указания типа через ```dtype``` NumPy либо преобразует их с потерей информации, либо выдаст ошибку:"
   ]
  },
  {
   "cell_type": "code",
   "execution_count": null,
   "id": "8a6bee82",
   "metadata": {},
   "outputs": [],
   "source": [
    "# Попытка сохранить строку как число → ValueError\n",
    "arr = np.array([\"текст\", 1, 2.5], dtype=np.float64)\n",
    "print(arr)"
   ]
  },
  {
   "cell_type": "markdown",
   "id": "fd3aa578",
   "metadata": {},
   "source": [
    "2. __Организация хранения в памяти__\n",
    "\n",
    "- Списки Python: \\\n",
    "\\\n",
    "Хранят ссылки на объекты в разных участках памяти. Каждый элемент требует дополнительной памяти для хранения информации о типе и других служебных данных.\n",
    "\n",
    "- Массивы NumPy: \\\n",
    "\\\n",
    "Данные хранятся в непрерывном блоке памяти как единый двоичный поток. Это позволяет эффективно использовать кеш процессора и оптимизирует вычисления.\n",
    "\n",
    "3. __Производительность операций__\n",
    "\n",
    "- Списки Python: \\\n",
    "\\\n",
    "Операции выполняются медленнее, так как для каждого элемента нужно проверять тип и выполнять дополнительные действия.\n",
    "\n",
    "- Массивы NumPy: \\\n",
    "\\\n",
    "Операции векторизованы и выполняются на низком уровне (на C), что дает значительный прирост скорости.\n",
    "\n",
    "4. __Размер и изменяемость__\n",
    "\n",
    "- Списки Python: \\\n",
    "\\\n",
    "Размер может динамически изменяться, добавление и удаление элементов выполняется эффективно.\n",
    "\n",
    "- Массивы NumPy: \\\n",
    "\\\n",
    "Размер фиксируется при создании. Для изменения размера нужно создавать новый массив, что может быть затратно по памяти.\n",
    "\n"
   ]
  },
  {
   "cell_type": "markdown",
   "id": "a12c656a",
   "metadata": {},
   "source": [
    "# 5.Основные способы создания массивов NumPy: функции для создания массивов NumPy из объектов Python, функции для создания массивов NumPy с нуля."
   ]
  },
  {
   "cell_type": "markdown",
   "id": "193cd830",
   "metadata": {},
   "source": [
    "##### Функции для создания массивов NumPy из объектов Python\n",
    "\n",
    "1. Из списка (list)"
   ]
  },
  {
   "cell_type": "code",
   "execution_count": null,
   "id": "9adc73dc",
   "metadata": {},
   "outputs": [],
   "source": [
    "arr = np.array([1, 2, 3])  # 1D массив\n",
    "matrix = np.array([[1, 2], [3, 4]])  # 2D массив"
   ]
  },
  {
   "cell_type": "markdown",
   "id": "02c60260",
   "metadata": {},
   "source": [
    "2. Из кортежа (tuple)"
   ]
  },
  {
   "cell_type": "code",
   "execution_count": null,
   "id": "905aacdd",
   "metadata": {},
   "outputs": [],
   "source": [
    "arr = np.array((1, 2, 3))  # Аналогично списку"
   ]
  },
  {
   "cell_type": "markdown",
   "id": "104dfe53",
   "metadata": {},
   "source": [
    "3. Из других итерируемых объектов"
   ]
  },
  {
   "cell_type": "code",
   "execution_count": null,
   "id": "c73caa3d",
   "metadata": {},
   "outputs": [],
   "source": [
    "arr = np.array(range(5))  # [0, 1, 2, 3, 4]"
   ]
  },
  {
   "cell_type": "markdown",
   "id": "a2fca673",
   "metadata": {},
   "source": [
    "##### Функции для создания массивов NumPy с нуля.\n",
    "\n",
    "1. Массивы с заполнением \n",
    "- ```zeros()``` - массив из нулей:"
   ]
  },
  {
   "cell_type": "code",
   "execution_count": null,
   "id": "8e8d15a9",
   "metadata": {},
   "outputs": [],
   "source": [
    "np.zeros(5)  # [0., 0., 0., 0., 0.]\n",
    "np.zeros((2, 3))  # 2x3 матрица нулей"
   ]
  },
  {
   "cell_type": "markdown",
   "id": "0b65d16c",
   "metadata": {},
   "source": [
    "- ```ones()``` - массив из единиц:"
   ]
  },
  {
   "cell_type": "code",
   "execution_count": null,
   "id": "e0161f01",
   "metadata": {},
   "outputs": [],
   "source": [
    "np.ones(4)  # [1., 1., 1., 1.]"
   ]
  },
  {
   "cell_type": "markdown",
   "id": "2975c869",
   "metadata": {},
   "source": [
    "- ```full()``` - массив с заданным значением:"
   ]
  },
  {
   "cell_type": "code",
   "execution_count": null,
   "id": "d2f3d109",
   "metadata": {},
   "outputs": [],
   "source": [
    "np.full((2, 2), 7)  # [[7, 7], [7, 7]]"
   ]
  },
  {
   "cell_type": "markdown",
   "id": "4afc8cba",
   "metadata": {},
   "source": [
    "2. Последовательности\n",
    "- ```arange()``` - аналог ```range()```:"
   ]
  },
  {
   "cell_type": "code",
   "execution_count": null,
   "id": "2a55fa60",
   "metadata": {},
   "outputs": [],
   "source": [
    "np.arange(5)  # [0, 1, 2, 3, 4]\n",
    "np.arange(1, 10, 2)  # [1, 3, 5, 7, 9]"
   ]
  },
  {
   "cell_type": "markdown",
   "id": "eb002514",
   "metadata": {},
   "source": [
    "- ```linspace()``` - линейно распределенные значения:"
   ]
  },
  {
   "cell_type": "code",
   "execution_count": null,
   "id": "f363a769",
   "metadata": {},
   "outputs": [],
   "source": [
    "np.linspace(0, 1, 5)  # [0., 0.25, 0.5, 0.75, 1.]"
   ]
  },
  {
   "cell_type": "markdown",
   "id": "d6d1ecf4",
   "metadata": {},
   "source": [
    "3. Специальные массивы\n",
    "- ```eye()``` - единичная матрица:"
   ]
  },
  {
   "cell_type": "code",
   "execution_count": null,
   "id": "e6ed5304",
   "metadata": {},
   "outputs": [],
   "source": [
    "np.eye(3)  # 3x3 единичная матрица"
   ]
  },
  {
   "cell_type": "markdown",
   "id": "6e4bd349",
   "metadata": {},
   "source": [
    "- ```diag()``` - диагональная матрица:"
   ]
  },
  {
   "cell_type": "code",
   "execution_count": null,
   "id": "b24305b9",
   "metadata": {},
   "outputs": [],
   "source": [
    "np.diag([1, 2, 3])  # [[1,0,0], [0,2,0], [0,0,3]]"
   ]
  },
  {
   "cell_type": "markdown",
   "id": "b06a66e1",
   "metadata": {},
   "source": [
    "4. Случайные массивы"
   ]
  },
  {
   "cell_type": "code",
   "execution_count": null,
   "id": "8bbaf2de",
   "metadata": {},
   "outputs": [],
   "source": [
    "np.random.rand(3)  # 3 случайных числа [0,1)\n",
    "np.random.randn(2, 2)  # 2x2 нормальное распределение\n",
    "np.random.randint(0, 10, size=5)  # 5 целых чисел [0,10)"
   ]
  },
  {
   "cell_type": "markdown",
   "id": "5ebe0c14",
   "metadata": {},
   "source": [
    "5. Особые случаи\n",
    "- пустые массивы"
   ]
  },
  {
   "cell_type": "code",
   "execution_count": null,
   "id": "76619b37",
   "metadata": {},
   "outputs": [],
   "source": [
    "np.empty(3)  # Массив без инициализации (значения - \"мусор\")"
   ]
  },
  {
   "cell_type": "markdown",
   "id": "db92b827",
   "metadata": {},
   "source": [
    "# 6.Основные атрибуты массивов NumPy. Различные виды индексации массивов NumPy."
   ]
  },
  {
   "cell_type": "markdown",
   "id": "fabe3eb0",
   "metadata": {},
   "source": [
    "##### Основные атрибуты массивов NumPy\n",
    "1. ```ndim``` — количество измерений (осей) массива."
   ]
  },
  {
   "cell_type": "code",
   "execution_count": 13,
   "id": "c0f4f4cc",
   "metadata": {},
   "outputs": [
    {
     "name": "stdout",
     "output_type": "stream",
     "text": [
      "2\n"
     ]
    }
   ],
   "source": [
    "a = np.array([[1, 2, 3], [4, 5, 6]])\n",
    "print(a.ndim)  # Вывод: 2"
   ]
  },
  {
   "cell_type": "markdown",
   "id": "5cb91987",
   "metadata": {},
   "source": [
    "2. ```shape``` — размеры массива, представленные в виде кортежа. Например, для матрицы из n строк и m столбцов ```shape``` будет ```(n, m)```."
   ]
  },
  {
   "cell_type": "code",
   "execution_count": 14,
   "id": "509e226b",
   "metadata": {},
   "outputs": [
    {
     "name": "stdout",
     "output_type": "stream",
     "text": [
      "(2, 3)\n"
     ]
    }
   ],
   "source": [
    "print(a.shape)  # Вывод: (2, 3)"
   ]
  },
  {
   "cell_type": "markdown",
   "id": "47b7dcbd",
   "metadata": {},
   "source": [
    "3. ```size``` — общее количество элементов в массиве, равное произведению всех элементов кортежа ```shape```."
   ]
  },
  {
   "cell_type": "code",
   "execution_count": 15,
   "id": "25ce464d",
   "metadata": {},
   "outputs": [
    {
     "name": "stdout",
     "output_type": "stream",
     "text": [
      "6\n"
     ]
    }
   ],
   "source": [
    "print(a.size)  # Вывод: 6"
   ]
  },
  {
   "cell_type": "markdown",
   "id": "7230e6f6",
   "metadata": {},
   "source": [
    "4. ```dtype``` — тип данных элементов массива."
   ]
  },
  {
   "cell_type": "code",
   "execution_count": 16,
   "id": "ca4731c8",
   "metadata": {},
   "outputs": [
    {
     "name": "stdout",
     "output_type": "stream",
     "text": [
      "int64\n"
     ]
    }
   ],
   "source": [
    "print(a.dtype)  # Вывод: int64"
   ]
  },
  {
   "cell_type": "markdown",
   "id": "ac6e837c",
   "metadata": {},
   "source": [
    "5. ```itemsize``` — размер каждого элемента массива в байтах."
   ]
  },
  {
   "cell_type": "code",
   "execution_count": null,
   "id": "4d13228e",
   "metadata": {},
   "outputs": [],
   "source": [
    "print(a.itemsize)  # Вывод: 8"
   ]
  },
  {
   "cell_type": "markdown",
   "id": "f14e5c3c",
   "metadata": {},
   "source": [
    "6. ```nbytes``` — общее количество байт, занимаемое массивом."
   ]
  },
  {
   "cell_type": "code",
   "execution_count": null,
   "id": "90e6a06b",
   "metadata": {},
   "outputs": [],
   "source": [
    "print(a.nbytes)  # Вывод: 48"
   ]
  },
  {
   "cell_type": "markdown",
   "id": "c5983976",
   "metadata": {},
   "source": [
    "7. ```T``` — транспонированный массив (строки становятся столбцами и наоборот)."
   ]
  },
  {
   "cell_type": "code",
   "execution_count": null,
   "id": "bfc796e7",
   "metadata": {},
   "outputs": [],
   "source": [
    "print(a.T)\n",
    "# Вывод:\n",
    "# [[1 4]\n",
    "#  [2 5]\n",
    "#  [3 6]]"
   ]
  },
  {
   "cell_type": "markdown",
   "id": "9b14f4e0",
   "metadata": {},
   "source": [
    "8. ```flat``` — итератор, позволяющий перебирать все элементы массива."
   ]
  },
  {
   "cell_type": "code",
   "execution_count": null,
   "id": "f893b745",
   "metadata": {},
   "outputs": [],
   "source": [
    "for element in a.flat:\n",
    "    print(element, end=\" \")  # Вывод: 1 2 3 4 5 6"
   ]
  },
  {
   "cell_type": "markdown",
   "id": "fdae243d",
   "metadata": {},
   "source": [
    "9. ```real``` и ```imag``` — возвращают действительную и мнимую части элементов массива, соответственно, если массив содержит комплексные числа."
   ]
  },
  {
   "cell_type": "code",
   "execution_count": null,
   "id": "0814fcbc",
   "metadata": {},
   "outputs": [],
   "source": [
    "complex_array = np.array([1 + 2j, 3 + 4j])\n",
    "print(complex_array.real)  # Вывод: [1. 3.]\n",
    "print(complex_array.imag)  # Вывод: [2. 4.]"
   ]
  },
  {
   "cell_type": "markdown",
   "id": "e3d37407",
   "metadata": {},
   "source": [
    "##### Различные виды индексации массивов NumPy\n",
    "\n",
    "1. Индексация с помощью целых чисел\n"
   ]
  },
  {
   "cell_type": "code",
   "execution_count": null,
   "id": "7cdd917e",
   "metadata": {},
   "outputs": [],
   "source": [
    "b = np.array([[1, 2], [3, 4], [5, 6]])\n",
    "print(b[1, 0])  # Вывод: 3"
   ]
  },
  {
   "cell_type": "markdown",
   "id": "4a054d10",
   "metadata": {},
   "source": [
    "2. Индексация с помощью срезов (slicing)"
   ]
  },
  {
   "cell_type": "code",
   "execution_count": null,
   "id": "5a724e52",
   "metadata": {},
   "outputs": [],
   "source": [
    "d = np.array([[1, 2, 3], [4, 5, 6], [7, 8, 9]])\n",
    "print(d[1:, :2])  # Вывод: [[4 5]\n",
    "                  #          [7 8]]"
   ]
  },
  {
   "cell_type": "markdown",
   "id": "b7f9da54",
   "metadata": {},
   "source": [
    "3. Индексация с использованием отрицательных индексов"
   ]
  },
  {
   "cell_type": "code",
   "execution_count": null,
   "id": "826e8254",
   "metadata": {},
   "outputs": [],
   "source": [
    "f = np.array([[1, 2], [3, 4], [5, 6]])\n",
    "print(f[-1, -1])  # Вывод: 6"
   ]
  },
  {
   "cell_type": "markdown",
   "id": "ae395612",
   "metadata": {},
   "source": [
    "4. Булевая индексация\n",
    "\n",
    "Используется для фильтрации элементов массива:\n"
   ]
  },
  {
   "cell_type": "code",
   "execution_count": null,
   "id": "184949dc",
   "metadata": {},
   "outputs": [],
   "source": [
    "g = np.array([10, 20, 30, 40, 50])\n",
    "mask = g > 30\n",
    "print(g[mask])  # Вывод: [40 50]"
   ]
  },
  {
   "cell_type": "markdown",
   "id": "f6f9db11",
   "metadata": {},
   "source": [
    "5. Индексация с использованием массивов индексов"
   ]
  },
  {
   "cell_type": "code",
   "execution_count": null,
   "id": "469d3aca",
   "metadata": {},
   "outputs": [],
   "source": [
    "h = np.array([10, 20, 30, 40, 50])\n",
    "indices = [0, 2, 4]\n",
    "print(h[indices])  # Вывод: [10 30 50]"
   ]
  },
  {
   "cell_type": "markdown",
   "id": "b2a3e649",
   "metadata": {},
   "source": [
    "6. Индексация с использованием структурированных массивов\n",
    "\n",
    "Если массив имеет именованные поля, можно обращаться к ним по имени:"
   ]
  },
  {
   "cell_type": "code",
   "execution_count": null,
   "id": "392f181f",
   "metadata": {},
   "outputs": [],
   "source": [
    "i = np.array([(1, 2), (3, 4), (5, 6)], dtype=[('a', np.int32), ('b', np.int32)])\n",
    "print(i['a'])  # Вывод: [1 3 5]"
   ]
  },
  {
   "cell_type": "markdown",
   "id": "95baa24b",
   "metadata": {},
   "source": [
    "7. Индексация с использованием итератора ```flat```"
   ]
  },
  {
   "cell_type": "code",
   "execution_count": null,
   "id": "f74025d5",
   "metadata": {},
   "outputs": [],
   "source": [
    "j = np.array([[1, 2], [3, 4], [5, 6]])\n",
    "for element in j.flat:\n",
    "    print(element, end=\" \")  # Вывод: 1 2 3 4 5 6"
   ]
  },
  {
   "cell_type": "markdown",
   "id": "f506fb7e",
   "metadata": {},
   "source": [
    "__Примечание:__\n",
    "- При использовании срезов создается представление исходного массива, а не его копия. Это означает, что изменения в срезе отразятся на исходном массиве. Чтобы создать независимую копию, используйте метод ```.copy()```."
   ]
  },
  {
   "cell_type": "markdown",
   "id": "e5f75d27",
   "metadata": {},
   "source": [
    "_7. Управление размерами массивов NumPy: методы reshape и flatten, \n",
    "объект newaxis._\n"
   ]
  },
  {
   "cell_type": "markdown",
   "id": "f1a319fd",
   "metadata": {},
   "source": [
    "1. Изменение формы массива (```reshape```) \\\n",
    "Метод reshape создает новый массив с другой формой, не изменяя исходные данные.\n"
   ]
  },
  {
   "cell_type": "code",
   "execution_count": null,
   "id": "1f82bdef",
   "metadata": {},
   "outputs": [],
   "source": [
    "arr = np.arange(12)  # [0, 1, 2, ..., 11]\n",
    "matrix = arr.reshape(3, 4) # 3 строки × 4 столбца\n",
    "print(matrix)\n",
    "\"\"\"\n",
    "[[ 0  1  2  3]\n",
    " [ 4  5  6  7]\n",
    " [ 8  9 10 11]]\n",
    "\"\"\""
   ]
  },
  {
   "cell_type": "markdown",
   "id": "75d90c92",
   "metadata": {},
   "source": [
    "Автоматическое вычисление размерности:"
   ]
  },
  {
   "cell_type": "code",
   "execution_count": null,
   "id": "c92bae41",
   "metadata": {},
   "outputs": [],
   "source": [
    "arr.reshape(3, -1)  # -1 означает \"вычислить автоматически\""
   ]
  },
  {
   "cell_type": "markdown",
   "id": "42edc058",
   "metadata": {},
   "source": [
    "2. Преобразование в одномерный массив (```flatten```, ```ravel```) \n",
    "\n",
    "```flatten()```: \n",
    "- Создает копию данных\n",
    "- Всегда возвращает 1D массив"
   ]
  },
  {
   "cell_type": "code",
   "execution_count": null,
   "id": "4c6e4ee5",
   "metadata": {},
   "outputs": [],
   "source": [
    "matrix = np.array([[1, 2], [3, 4]])\n",
    "flat = matrix.flatten()  # [1, 2, 3, 4]"
   ]
  },
  {
   "cell_type": "markdown",
   "id": "4fc01c8a",
   "metadata": {},
   "source": [
    "```ravel()```:\n",
    "- Возвращает представление {т.е. не копию} (где возможно)\n",
    "- Более эффективен по памяти"
   ]
  },
  {
   "cell_type": "code",
   "execution_count": null,
   "id": "f4927d3e",
   "metadata": {},
   "outputs": [],
   "source": [
    "flat_view = matrix.ravel()  # [1, 2, 3, 4]"
   ]
  },
  {
   "cell_type": "markdown",
   "id": "8a5eb262",
   "metadata": {},
   "source": [
    "3. Добавление осей (```newaxis```)\n",
    "\n",
    "Объект np.newaxis позволяет добавлять новые оси к массиву:"
   ]
  },
  {
   "cell_type": "code",
   "execution_count": null,
   "id": "20b6f653",
   "metadata": {},
   "outputs": [],
   "source": [
    "arr = np.array([1, 2, 3])\n",
    "\n",
    "# Преобразование в вектор-столбец (2D)\n",
    "col_vector = arr[:, np.newaxis]\n",
    "\"\"\"\n",
    "[[1]\n",
    " [2]\n",
    " [3]]\n",
    "\"\"\"\n",
    "\n",
    "arr_3d = arr[np.newaxis, :, np.newaxis]\n",
    "print(arr_3d.shape)  # (1, 3, 1)"
   ]
  },
  {
   "cell_type": "markdown",
   "id": "3f5d7479",
   "metadata": {},
   "source": [
    "__Примечание__:\n",
    "- ```reshape``` может вернуть представление или копию в зависимости от расположения данных в памяти\n",
    "- ```newaxis``` не копирует данные, только изменяет представление\n",
    "- Для гарантированного копирования используйте ```.copy()```\n",
    "\n"
   ]
  },
  {
   "cell_type": "markdown",
   "id": "6912ff2a",
   "metadata": {},
   "source": [
    "_8. Понятие векторизованных операций в NumPy. Основные виды \n",
    "векторизованных операций. Различия между операторной и \\\n",
    "функциональной формой векторизованных операций._"
   ]
  },
  {
   "cell_type": "markdown",
   "id": "346695ea",
   "metadata": {},
   "source": [
    "1. Понятие векторизованных операций\n",
    "Векторизованные операции — это вычисления, выполняемые над целыми массивами без явных циклов. Они реализованы на низкоуровневых языках (C/Fortran).\\\n",
    "Пример:"
   ]
  },
  {
   "cell_type": "code",
   "execution_count": null,
   "id": "f3056342",
   "metadata": {},
   "outputs": [
    {
     "name": "stdout",
     "output_type": "stream",
     "text": [
      "<class 'numpy.ndarray'>\n"
     ]
    }
   ],
   "source": [
    "# Списки Python (медленно)\n",
    "a = [1, 2, 3]\n",
    "b = [4, 5, 6]\n",
    "result = [x + y for x, y in zip(a, b)]  # [5, 7, 9]\n",
    "\n",
    "# NumPy (векторизованно)\n",
    "a_np = np.array([1, 2, 3])\n",
    "b_np = np.array([4, 5, 6])\n",
    "result_np = a_np + b_np  # ndarray([5, 7, 9])"
   ]
  },
  {
   "cell_type": "markdown",
   "id": "f4a420a7",
   "metadata": {},
   "source": [
    "2. Основные виды векторизованных операций\n",
    "- Арифметические операции \\\n",
    "Поэлементные операции с массивами одинаковой формы:"
   ]
  },
  {
   "cell_type": "code",
   "execution_count": null,
   "id": "6886e7d0",
   "metadata": {},
   "outputs": [],
   "source": [
    "a = np.array([1, 2, 3])\n",
    "b = np.array([4, 5, 6])\n",
    "\n",
    "print(a + b)  # Сложение: [5, 7, 9]\n",
    "print(a * b)  # Умножение: [4, 10, 18]\n",
    "print(a ** 2) # Квадрат: [1, 4, 9]"
   ]
  },
  {
   "cell_type": "markdown",
   "id": "d0971793",
   "metadata": {},
   "source": [
    "- Логические операции \\\n",
    "Поэлементное сравнение:"
   ]
  },
  {
   "cell_type": "code",
   "execution_count": null,
   "id": "ea274cbf",
   "metadata": {},
   "outputs": [],
   "source": [
    "print(a > 2)   # [False, False, True]\n",
    "print(a == b)  # [False, False, False]"
   ]
  },
  {
   "cell_type": "markdown",
   "id": "93d9b6fd",
   "metadata": {},
   "source": [
    "- Математические функции \\\n",
    "Векторизованные версии математических функций:"
   ]
  },
  {
   "cell_type": "code",
   "execution_count": null,
   "id": "a864b7c3",
   "metadata": {},
   "outputs": [],
   "source": [
    "print(np.sin(a))       # Синус: [0.841, 0.909, 0.141]\n",
    "print(np.log(a + 1))   # Натуральный логарифм\n",
    "print(np.exp(a))       # Экспонента"
   ]
  },
  {
   "cell_type": "markdown",
   "id": "997f08b2",
   "metadata": {},
   "source": [
    "- Агрегации \\\n",
    "Операции по всему массиву:"
   ]
  },
  {
   "cell_type": "code",
   "execution_count": null,
   "id": "9c7ecac8",
   "metadata": {},
   "outputs": [],
   "source": [
    "print(np.sum(a))      # Сумма: 6\n",
    "print(np.mean(b))     # Среднее: 5.0\n",
    "print(np.max(a - b))  # Максимум разности: -1"
   ]
  },
  {
   "cell_type": "markdown",
   "id": "2a5288f9",
   "metadata": {},
   "source": [
    "3. Операторная и функциональная форма векторизованных операций в NumPy\n",
    "- Операторная форма \\\n",
    "Использует стандартные математические операторы (+, -, *, / и др.) для работы с массивами. \\\n",
    "\\\n",
    "Характеристики: \n",
    "    - Использует стандартные математические операторы (+, -, *, / и др.) для работы с массивами.\n",
    "    - Автоматически применяет broadcasting\n",
    "\n",
    "    Ограничения:\n",
    "    - Не поддерживает дополнительные параметры (например, вывод в существующий массив)\n",
    "    - Ограниченный набор операций"
   ]
  },
  {
   "cell_type": "code",
   "execution_count": 19,
   "id": "0173e33a",
   "metadata": {},
   "outputs": [],
   "source": [
    "\n",
    "a = np.array([1, 2, 3])\n",
    "b = np.array([4, 5, 6])\n",
    "\n",
    "# Арифметические операции\n",
    "sum_arr = a + b       # [5, 7, 9]\n",
    "prod_arr = a * b      # [4, 10, 18]\n",
    "\n",
    "# Логические операции\n",
    "mask = a > 2          # [False, False, True]\n",
    "\n",
    "# Со скалярами\n",
    "scaled = a * 10       # [10, 20, 30]"
   ]
  },
  {
   "cell_type": "markdown",
   "id": "066c24df",
   "metadata": {},
   "source": [
    "- Функциональная форма \\\n",
    "Использует функции из модуля NumPy (```np.add()```, ```np.multiply()``` и др.). \\\n",
    "\\\n",
    "Характеристики:\n",
    "\n",
    "    - Более гибкая и мощная \n",
    "    - Поддерживает дополнительные параметры \n",
    "    - Позволяет явно контролировать процесс вычислений\n",
    "\n",
    "    Преимущества:\n",
    "    - Поддержка сложных сценариев вычислений\n",
    "    - Возможность оптимизации памяти (через параметр ```out```)"
   ]
  },
  {
   "cell_type": "code",
   "execution_count": null,
   "id": "0845f9f0",
   "metadata": {},
   "outputs": [],
   "source": [
    "# Эквиваленты операторной формы\n",
    "sum_func = np.add(a, b)          # [5, 7, 9]\n",
    "prod_func = np.multiply(a, b)    # [4, 10, 18]\n",
    "\n",
    "# Расширенные возможности\n",
    "result = np.empty_like(a)\n",
    "np.add(a, b, out=result)         # Результат записывается в существующий массив\n",
    "\n",
    "# Специальные операции\n",
    "np.cumsum(a)                     # Накопленная сумма: [1, 3, 6]\n",
    "np.logical_and(a > 1, b < 6)     # Логическое И: [False, True, False]"
   ]
  },
  {
   "cell_type": "markdown",
   "id": "1258e62a",
   "metadata": {},
   "source": [
    "# 9. Транслирование. Правила транслирования массивов NumPy. Пример использования транслирования."
   ]
  },
  {
   "cell_type": "markdown",
   "id": "7dcb0a8e",
   "metadata": {},
   "source": [
    "1. Понятие транслирования\n",
    "\n",
    "__Транслирование (broadcasting)__ — это механизм NumPy, позволяющий выполнять операции над массивами разной формы путем автоматического расширения меньшего массива до формы большего без копирования данных.\n",
    "\n",
    "__Основная идея:__\n",
    "\n",
    "\"Растягивание\" массивов вдоль осей размерности 1 для совмещения форм.\n",
    "\n",
    "2. Правила транслирования\n",
    "\n",
    "- Выравнивание по правому краю \\\n",
    "Формы сравниваются справа налево: \\\n",
    "```Массив A (3, 4)``` \\\n",
    "```Массив B    (4,) → (1, 4) → (3, 4)```\n",
    "- Совместимость размерностей \\\n",
    "Размерности считаются совместимыми, если:\n",
    "    - Размеры равны или\n",
    "    - Один из размеров равен 1 (и может быть растянут)\n",
    "- Несовместимость \\\n",
    "Если размеры не равны и ни один не равен 1 — ошибка: \\\n",
    "```Массив A (3, 4)``` \\\n",
    "```Массив B    (3,) → Ошибка (4 != 3 и ни один не 1)```\n",
    "\n",
    "3. Примеры"
   ]
  },
  {
   "cell_type": "code",
   "execution_count": null,
   "id": "eb801e79",
   "metadata": {},
   "outputs": [],
   "source": [
    "arr = np.array([[1, 2], [3, 4]])  # (2, 2)\n",
    "result = arr + 5  # Скаляр 5 → (1,1) → (2,2)\n",
    "\"\"\"\n",
    "[[6, 7],\n",
    " [8, 9]]\n",
    "\"\"\""
   ]
  },
  {
   "cell_type": "code",
   "execution_count": null,
   "id": "2d43aa68",
   "metadata": {},
   "outputs": [],
   "source": [
    "vec = np.array([10, 20])        # (2,) → (1,2) → (2,2)\n",
    "matrix = np.array([[1, 2], \n",
    "                   [3, 4]])     # (2, 2)\n",
    "\n",
    "result = matrix + vec\n",
    "\"\"\"\n",
    "[[11, 22],\n",
    " [13, 24]]\n",
    "\"\"\""
   ]
  },
  {
   "cell_type": "code",
   "execution_count": null,
   "id": "9b49bc6a",
   "metadata": {},
   "outputs": [],
   "source": [
    "arr_3d = np.ones((3, 2, 4))    # (3, 2, 4)\n",
    "vec = np.array([1, 2, 3, 4])    # (4,) → (1,1,4) → (3,2,4)\n",
    "\n",
    "result = arr_3d * vec  # Каждый \"слой\" умножается на vec"
   ]
  },
  {
   "cell_type": "markdown",
   "id": "acd5883e",
   "metadata": {},
   "source": [
    "# 10. Операции агрегирования. Основные виды операций агрегирования. Применение операций вдоль определенных измерений многомерного NumPy массива."
   ]
  },
  {
   "cell_type": "markdown",
   "id": "37ec91fa",
   "metadata": {},
   "source": [
    "1. Понятие операций агрегирования\n",
    "\n",
    "Операции агрегирования — это вычисления, которые сжимают данные, преобразуя массив в скалярное значение или массив меньшей размерности. Они позволяют получать сводные статистики (сумма, среднее, максимум и др.) по всем или части элементов массива. \\\n",
    "__Базовые агрегатные функции__\n",
    "| Функция         | Описание               | Пример                    |\n",
    "|-----------------|------------------------|---------------------------|\n",
    "| ```np.sum()```  | Сумма элементов        | np.sum([1, 2, 3]) → 6     |\n",
    "| ```np.mean()``` | Среднее значение       | np.mean([1, 2, 3]) → 2.0  |\n",
    "| ```np.min()```  | Минимальное значение   | np.min([1, 2, 3]) → 1     |\n",
    "| ```np.max()```  | Максимальное значение  | np.max([1, 2, 3]) → 3     |\n",
    "| ```np.prod()``` | Произведение элементов | np.prod([1, 2, 3]) → 6    |\n",
    "| ```np.std()```  | Стандартное отклонение | np.std([1, 2, 3]) → 0.816 |\n",
    "| ```np.var()```  | Дисперсия              | np.var([1, 2, 3]) → 0.666 |\n",
    "\n",
    "__Специальные агрегаторы__\n",
    "| Функция               | Описание       | Пример                         |\n",
    "|-----------------------|----------------|--------------------------------|\n",
    "| ```np.median()```     | Медиана        | np.median([1, 2, 10]) → 2      |\n",
    "| ```np.percentile()``` | Процентиль     | np.percentile([1,2,3], 50) → 2 |\n",
    "| ```np.any()```        | Логическое ИЛИ | np.any([True, False]) → True   |\n",
    "| ```np.all()```        | Логическое И   | np.all([True, False]) → False  |"
   ]
  }
 ],
 "metadata": {
  "kernelspec": {
   "display_name": "Python 3",
   "language": "python",
   "name": "python3"
  },
  "language_info": {
   "codemirror_mode": {
    "name": "ipython",
    "version": 3
   },
   "file_extension": ".py",
   "mimetype": "text/x-python",
   "name": "python",
   "nbconvert_exporter": "python",
   "pygments_lexer": "ipython3",
   "version": "3.11.1"
  }
 },
 "nbformat": 4,
 "nbformat_minor": 5
}
